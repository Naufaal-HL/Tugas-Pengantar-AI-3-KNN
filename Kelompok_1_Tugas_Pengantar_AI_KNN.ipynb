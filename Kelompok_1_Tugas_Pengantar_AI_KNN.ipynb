{
  "nbformat": 4,
  "nbformat_minor": 0,
  "metadata": {
    "colab": {
      "name": "Kelompok 1 - Tugas Pengantar AI - KNN.ipynb",
      "provenance": [],
      "collapsed_sections": [],
      "authorship_tag": "ABX9TyOMBWYJV3ZfUDBAGX+rwPpV"
    },
    "kernelspec": {
      "name": "python3",
      "display_name": "Python 3"
    },
    "language_info": {
      "name": "python"
    }
  },
  "cells": [
    {
      "cell_type": "code",
      "metadata": {
        "id": "QQEgS4x3KO5_"
      },
      "source": [
        "import numpy as np\n",
        "import pandas as pd\n",
        "import seaborn as sns\n",
        "import matplotlib.pyplot as plt"
      ],
      "execution_count": 587,
      "outputs": []
    },
    {
      "cell_type": "code",
      "metadata": {
        "colab": {
          "base_uri": "https://localhost:8080/",
          "height": 295
        },
        "id": "Td6v2YJiL7s9",
        "outputId": "58ec735c-831d-4119-da9b-456498f129dd"
      },
      "source": [
        "df = pd.read_excel('https://github.com/ShinyQ/Tugas-Pengantar-AI-3_KNN/blob/main/mobil.xls?raw=true')\n",
        "df.sample(8)"
      ],
      "execution_count": 588,
      "outputs": [
        {
          "output_type": "execute_result",
          "data": {
            "text/html": [
              "<div>\n",
              "<style scoped>\n",
              "    .dataframe tbody tr th:only-of-type {\n",
              "        vertical-align: middle;\n",
              "    }\n",
              "\n",
              "    .dataframe tbody tr th {\n",
              "        vertical-align: top;\n",
              "    }\n",
              "\n",
              "    .dataframe thead th {\n",
              "        text-align: right;\n",
              "    }\n",
              "</style>\n",
              "<table border=\"1\" class=\"dataframe\">\n",
              "  <thead>\n",
              "    <tr style=\"text-align: right;\">\n",
              "      <th></th>\n",
              "      <th>Nama Mobil</th>\n",
              "      <th>Ukuran</th>\n",
              "      <th>Kenyamanan</th>\n",
              "      <th>Irit</th>\n",
              "      <th>Kecepatan</th>\n",
              "      <th>Harga (Ratus Juta)</th>\n",
              "    </tr>\n",
              "  </thead>\n",
              "  <tbody>\n",
              "    <tr>\n",
              "      <th>1</th>\n",
              "      <td>Daihatsu Alya</td>\n",
              "      <td>4</td>\n",
              "      <td>3</td>\n",
              "      <td>9</td>\n",
              "      <td>6</td>\n",
              "      <td>1.1</td>\n",
              "    </tr>\n",
              "    <tr>\n",
              "      <th>7</th>\n",
              "      <td>Toyota Innova</td>\n",
              "      <td>8</td>\n",
              "      <td>8</td>\n",
              "      <td>5</td>\n",
              "      <td>7</td>\n",
              "      <td>4.0</td>\n",
              "    </tr>\n",
              "    <tr>\n",
              "      <th>12</th>\n",
              "      <td>Toyota Fortuner</td>\n",
              "      <td>9</td>\n",
              "      <td>8</td>\n",
              "      <td>5</td>\n",
              "      <td>8</td>\n",
              "      <td>5.0</td>\n",
              "    </tr>\n",
              "    <tr>\n",
              "      <th>15</th>\n",
              "      <td>Suzuki Ertiga</td>\n",
              "      <td>7</td>\n",
              "      <td>7</td>\n",
              "      <td>7</td>\n",
              "      <td>7</td>\n",
              "      <td>2.3</td>\n",
              "    </tr>\n",
              "    <tr>\n",
              "      <th>2</th>\n",
              "      <td>Toyota Avanza</td>\n",
              "      <td>6</td>\n",
              "      <td>5</td>\n",
              "      <td>6</td>\n",
              "      <td>6</td>\n",
              "      <td>2.0</td>\n",
              "    </tr>\n",
              "    <tr>\n",
              "      <th>16</th>\n",
              "      <td>Suzuki Carry</td>\n",
              "      <td>7</td>\n",
              "      <td>3</td>\n",
              "      <td>9</td>\n",
              "      <td>5</td>\n",
              "      <td>0.8</td>\n",
              "    </tr>\n",
              "    <tr>\n",
              "      <th>5</th>\n",
              "      <td>Livina</td>\n",
              "      <td>7</td>\n",
              "      <td>7</td>\n",
              "      <td>6</td>\n",
              "      <td>7</td>\n",
              "      <td>2.1</td>\n",
              "    </tr>\n",
              "    <tr>\n",
              "      <th>8</th>\n",
              "      <td>Alphard</td>\n",
              "      <td>9</td>\n",
              "      <td>10</td>\n",
              "      <td>4</td>\n",
              "      <td>8</td>\n",
              "      <td>10.0</td>\n",
              "    </tr>\n",
              "  </tbody>\n",
              "</table>\n",
              "</div>"
            ],
            "text/plain": [
              "         Nama Mobil  Ukuran  Kenyamanan  Irit  Kecepatan  Harga (Ratus Juta)\n",
              "1     Daihatsu Alya       4           3     9          6                 1.1\n",
              "7     Toyota Innova       8           8     5          7                 4.0\n",
              "12  Toyota Fortuner       9           8     5          8                 5.0\n",
              "15    Suzuki Ertiga       7           7     7          7                 2.3\n",
              "2     Toyota Avanza       6           5     6          6                 2.0\n",
              "16     Suzuki Carry       7           3     9          5                 0.8\n",
              "5            Livina       7           7     6          7                 2.1\n",
              "8           Alphard       9          10     4          8                10.0"
            ]
          },
          "metadata": {
            "tags": []
          },
          "execution_count": 588
        }
      ]
    },
    {
      "cell_type": "code",
      "metadata": {
        "colab": {
          "base_uri": "https://localhost:8080/",
          "height": 295
        },
        "id": "H4R7VWDIMmdE",
        "outputId": "65ccaf72-423b-4347-c7a7-bbd60239f6b6"
      },
      "source": [
        "data.describe(include='all')"
      ],
      "execution_count": 589,
      "outputs": [
        {
          "output_type": "execute_result",
          "data": {
            "text/html": [
              "<div>\n",
              "<style scoped>\n",
              "    .dataframe tbody tr th:only-of-type {\n",
              "        vertical-align: middle;\n",
              "    }\n",
              "\n",
              "    .dataframe tbody tr th {\n",
              "        vertical-align: top;\n",
              "    }\n",
              "\n",
              "    .dataframe thead th {\n",
              "        text-align: right;\n",
              "    }\n",
              "</style>\n",
              "<table border=\"1\" class=\"dataframe\">\n",
              "  <thead>\n",
              "    <tr style=\"text-align: right;\">\n",
              "      <th></th>\n",
              "      <th>Ukuran</th>\n",
              "      <th>Kenyamanan</th>\n",
              "      <th>Irit</th>\n",
              "      <th>Kecepatan</th>\n",
              "      <th>Harga</th>\n",
              "    </tr>\n",
              "  </thead>\n",
              "  <tbody>\n",
              "    <tr>\n",
              "      <th>count</th>\n",
              "      <td>17.000000</td>\n",
              "      <td>17.000000</td>\n",
              "      <td>17.000000</td>\n",
              "      <td>17.000000</td>\n",
              "      <td>17.000000</td>\n",
              "    </tr>\n",
              "    <tr>\n",
              "      <th>mean</th>\n",
              "      <td>6.529412</td>\n",
              "      <td>6.352941</td>\n",
              "      <td>6.941176</td>\n",
              "      <td>6.823529</td>\n",
              "      <td>3.247059</td>\n",
              "    </tr>\n",
              "    <tr>\n",
              "      <th>std</th>\n",
              "      <td>2.034627</td>\n",
              "      <td>2.234423</td>\n",
              "      <td>1.784327</td>\n",
              "      <td>1.131111</td>\n",
              "      <td>2.406597</td>\n",
              "    </tr>\n",
              "    <tr>\n",
              "      <th>min</th>\n",
              "      <td>3.000000</td>\n",
              "      <td>3.000000</td>\n",
              "      <td>4.000000</td>\n",
              "      <td>5.000000</td>\n",
              "      <td>0.800000</td>\n",
              "    </tr>\n",
              "    <tr>\n",
              "      <th>25%</th>\n",
              "      <td>5.000000</td>\n",
              "      <td>4.000000</td>\n",
              "      <td>6.000000</td>\n",
              "      <td>6.000000</td>\n",
              "      <td>1.750000</td>\n",
              "    </tr>\n",
              "    <tr>\n",
              "      <th>50%</th>\n",
              "      <td>7.000000</td>\n",
              "      <td>7.000000</td>\n",
              "      <td>7.000000</td>\n",
              "      <td>7.000000</td>\n",
              "      <td>2.300000</td>\n",
              "    </tr>\n",
              "    <tr>\n",
              "      <th>75%</th>\n",
              "      <td>8.000000</td>\n",
              "      <td>8.000000</td>\n",
              "      <td>9.000000</td>\n",
              "      <td>8.000000</td>\n",
              "      <td>5.000000</td>\n",
              "    </tr>\n",
              "    <tr>\n",
              "      <th>max</th>\n",
              "      <td>10.000000</td>\n",
              "      <td>10.000000</td>\n",
              "      <td>10.000000</td>\n",
              "      <td>9.000000</td>\n",
              "      <td>10.000000</td>\n",
              "    </tr>\n",
              "  </tbody>\n",
              "</table>\n",
              "</div>"
            ],
            "text/plain": [
              "          Ukuran  Kenyamanan       Irit  Kecepatan      Harga\n",
              "count  17.000000   17.000000  17.000000  17.000000  17.000000\n",
              "mean    6.529412    6.352941   6.941176   6.823529   3.247059\n",
              "std     2.034627    2.234423   1.784327   1.131111   2.406597\n",
              "min     3.000000    3.000000   4.000000   5.000000   0.800000\n",
              "25%     5.000000    4.000000   6.000000   6.000000   1.750000\n",
              "50%     7.000000    7.000000   7.000000   7.000000   2.300000\n",
              "75%     8.000000    8.000000   9.000000   8.000000   5.000000\n",
              "max    10.000000   10.000000  10.000000   9.000000  10.000000"
            ]
          },
          "metadata": {
            "tags": []
          },
          "execution_count": 589
        }
      ]
    },
    {
      "cell_type": "markdown",
      "metadata": {
        "id": "XCqYvH_2OEBb"
      },
      "source": [
        "### **Data Preprocessing**"
      ]
    },
    {
      "cell_type": "markdown",
      "metadata": {
        "id": "ZyneK0GowIiy"
      },
      "source": [
        "##### **Memeriksa Data Yang Hilang**"
      ]
    },
    {
      "cell_type": "code",
      "metadata": {
        "colab": {
          "base_uri": "https://localhost:8080/"
        },
        "id": "rCyWX21iMsVG",
        "outputId": "f56cb05d-0e1e-4208-e53d-bdbace866b94"
      },
      "source": [
        "data.isna().sum()"
      ],
      "execution_count": 590,
      "outputs": [
        {
          "output_type": "execute_result",
          "data": {
            "text/plain": [
              "Ukuran        0\n",
              "Kenyamanan    0\n",
              "Irit          0\n",
              "Kecepatan     0\n",
              "Harga         0\n",
              "dtype: int64"
            ]
          },
          "metadata": {
            "tags": []
          },
          "execution_count": 590
        }
      ]
    },
    {
      "cell_type": "markdown",
      "metadata": {
        "id": "G0DLjqsHseVh"
      },
      "source": [
        "##### **Min Max Feature Scaling**"
      ]
    },
    {
      "cell_type": "code",
      "metadata": {
        "colab": {
          "base_uri": "https://localhost:8080/"
        },
        "id": "Qjw69Hebny4x",
        "outputId": "b7e1fb81-9662-478f-b50d-1d890a275943"
      },
      "source": [
        "for col in range(len(data)):\n",
        "    data['Harga'][col] = (data['Harga'][col] - (data['Harga']).min()) / ((data['Harga']).max() - (data['Harga']).min())"
      ],
      "execution_count": 591,
      "outputs": [
        {
          "output_type": "stream",
          "text": [
            "/usr/local/lib/python3.7/dist-packages/ipykernel_launcher.py:2: SettingWithCopyWarning: \n",
            "A value is trying to be set on a copy of a slice from a DataFrame\n",
            "\n",
            "See the caveats in the documentation: https://pandas.pydata.org/pandas-docs/stable/user_guide/indexing.html#returning-a-view-versus-a-copy\n",
            "  \n"
          ],
          "name": "stderr"
        }
      ]
    },
    {
      "cell_type": "markdown",
      "metadata": {
        "id": "XHOBe35RxP-R"
      },
      "source": [
        "##### **Rename Dan Drop Kolom Yang Tidak Dibutuhkan**"
      ]
    },
    {
      "cell_type": "code",
      "metadata": {
        "id": "sTR1O290ectM"
      },
      "source": [
        "data = df.rename({'Harga (Ratus Juta)': 'Harga'}, axis=1)\n",
        "data = data.drop('Nama Mobil', axis=1)"
      ],
      "execution_count": 592,
      "outputs": []
    },
    {
      "cell_type": "markdown",
      "metadata": {
        "id": "97Er3DT3MzR6"
      },
      "source": [
        "### **Exploratory Data Analysis**"
      ]
    },
    {
      "cell_type": "code",
      "metadata": {
        "colab": {
          "base_uri": "https://localhost:8080/",
          "height": 282
        },
        "id": "VaFyA3us7Yph",
        "outputId": "764fe46a-63b8-4e5a-e217-011a9fc66c22"
      },
      "source": [
        "data['Harga'].hist(alpha=0.8)\n",
        "plt.axvline(data['Harga'].mean(), color='r', linestyle='dashed', linewidth=2, label='Mean')\n",
        "plt.axvline(data['Harga'].median(), color='orange', linestyle='dashed', linewidth=2, label='Median')"
      ],
      "execution_count": 593,
      "outputs": [
        {
          "output_type": "execute_result",
          "data": {
            "text/plain": [
              "<matplotlib.lines.Line2D at 0x7f51463bac50>"
            ]
          },
          "metadata": {
            "tags": []
          },
          "execution_count": 593
        },
        {
          "output_type": "display_data",
          "data": {
            "image/png": "[encoded data removed]",
            "text/plain": [
              "<Figure size 432x288 with 1 Axes>"
            ]
          },
          "metadata": {
            "tags": [],
            "needs_background": "light"
          }
        }
      ]
    },
    {
      "cell_type": "markdown",
      "metadata": {
        "id": "xzRX3PB-M9s9"
      },
      "source": [
        "### **Modelling**"
      ]
    },
    {
      "cell_type": "code",
      "metadata": {
        "id": "XvShOlEDzXAL"
      },
      "source": [
        "def euclidean_distance(x, y):\n",
        "    dist = 0\n",
        "    for i in range(len(y)):\n",
        "        dist += (x[i] - y[i])**2\n",
        "\n",
        "    return math.sqrt(dist)\n",
        "\n",
        "def manhattan_distance(x, y):\n",
        "    dist = 0\n",
        "    for i in range(len(x)):\n",
        "        dist += abs(x[i] - y[i])\n",
        "\n",
        "    return dist\n",
        " \n",
        "def minkowski_distance(x, y, p=2):\n",
        "    dist = 0\n",
        "    for i in range(len(x)):\n",
        "        dist += (x[i] - y[i])**p\n",
        "\n",
        "    return dist\n",
        "\n",
        "def supremum_distance(x, y):\n",
        "    dist = []\n",
        "    for i in range(len(x)):\n",
        "        dist.append(abs(x[i] - y[i]))\n",
        "\n",
        "    return max(dist)"
      ],
      "execution_count": 594,
      "outputs": []
    },
    {
      "cell_type": "code",
      "metadata": {
        "id": "pmHYj1QzpRNf"
      },
      "source": [
        "def get_disance(x, y, k):\n",
        "    euclidean, manhattan, minkowski, supremum = [], [], [], []\n",
        "\n",
        "    for i in range(len(x)):\n",
        "        minkowski.append([minkowski_distance(x.iloc[i].tolist(), y), df['Nama Mobil'][i]])\n",
        "        manhattan.append([manhattan_distance(x.iloc[i].tolist(), y), df['Nama Mobil'][i]])\n",
        "        euclidean.append([euclidean_distance(x.iloc[i].tolist(), y), df['Nama Mobil'][i]])\n",
        "        supremum.append([supremum_distance(x.iloc[i].tolist(), y), df['Nama Mobil'][i]])\n",
        "\n",
        "    euclidean = sorted(euclidean)[:3]\n",
        "    manhattan = sorted(manhattan)[:3]\n",
        "    minkowski = sorted(minkowski)[:3]\n",
        "    supremum = sorted(supremum)[:3]\n",
        "\n",
        "    return euclidean, manhattan, minkowski, supremum"
      ],
      "execution_count": 595,
      "outputs": []
    },
    {
      "cell_type": "code",
      "metadata": {
        "id": "iUB0ar5jqytF"
      },
      "source": [
        "def knn(x, y, k=3):\n",
        "    euclidean, manhattan, minkowski, supremum = get_disance(x, y, k)\n",
        "    distances = [['Euclidean', euclidean], ['Manhattan', manhattan], ['Minkowski', minkowski], ['Supremum', supremum]]\n",
        "\n",
        "    return distances"
      ],
      "execution_count": 596,
      "outputs": []
    },
    {
      "cell_type": "markdown",
      "metadata": {
        "id": "IelG4p7vqZiq"
      },
      "source": [
        "### **Result**"
      ]
    },
    {
      "cell_type": "code",
      "metadata": {
        "colab": {
          "base_uri": "https://localhost:8080/"
        },
        "id": "ah3Lert2yaSH",
        "outputId": "cd03d9b6-06d4-44d0-eaaf-ee1867be3d33"
      },
      "source": [
        "ukuran = int(input(\"Masukkan Ukuran: \"))\n",
        "kenyamanan = int(input(\"Masukkan Kenyamanan: \"))\n",
        "irit = int(input(\"Masukkan Irit: \"))\n",
        "kecepatan = int(input(\"Masukkan Kecepatan: \"))\n",
        "harga = float(input(\"Harga: \"))\n",
        "\n",
        "\n",
        "distances = knn(data, [ukuran, kenyamanan, irit, kecepatan, harga])\n",
        "\n",
        "for method in distances:\n",
        "      print(\"\\n--------------------------------------------------\")\n",
        "      print(f'Metode: {method[0]}')\n",
        "      print(\"--------------------------------------------------\")\n",
        "      \n",
        "      car = []\n",
        "\n",
        "      for i, distance in enumerate(method[1]):\n",
        "          print(f'{i+1}. {distance[1]}, Distance: {distance[0]}')\n",
        "          car.append(distance[1])\n",
        "      \n",
        "      car = pd.DataFrame(car)\n",
        "      car.to_excel(f'{method[0]}.xls', index=False, header=False)  "
      ],
      "execution_count": 597,
      "outputs": [
        {
          "output_type": "stream",
          "text": [
            "Masukkan Ukuran: 1\n",
            "Masukkan Kenyamanan: 2\n",
            "Masukkan Irit: 3\n",
            "Masukkan Kecepatan: 4\n",
            "Harga: 5\n",
            "\n",
            "--------------------------------------------------\n",
            "Metode: Euclidean\n",
            "--------------------------------------------------\n",
            "1. Daihatsu Xenia, Distance: 7.25\n",
            "2. Toyota Avanza, Distance: 7.483314773547883\n",
            "3. Daihatsu Alya, Distance: 8.075270893288968\n",
            "\n",
            "--------------------------------------------------\n",
            "Metode: Manhattan\n",
            "--------------------------------------------------\n",
            "1. Daihatsu Xenia, Distance: 15.25\n",
            "2. Karimun, Distance: 15.8\n",
            "3. Daihatsu Alya, Distance: 15.9\n",
            "\n",
            "--------------------------------------------------\n",
            "Metode: Minkowski\n",
            "--------------------------------------------------\n",
            "1. Daihatsu Xenia, Distance: 52.5625\n",
            "2. Toyota Avanza, Distance: 56.0\n",
            "3. Daihatsu Alya, Distance: 65.21\n",
            "\n",
            "--------------------------------------------------\n",
            "Metode: Supremum\n",
            "--------------------------------------------------\n",
            "1. Daihatsu Xenia, Distance: 5.0\n",
            "2. Toyota Avanza, Distance: 5.0\n",
            "3. Daihatsu Alya, Distance: 6.0\n"
          ],
          "name": "stdout"
        }
      ]
    }
  ]
}