{
  "nbformat": 4,
  "nbformat_minor": 0,
  "metadata": {
    "colab": {
      "name": "Kelompok 1 - Tugas Pengantar AI - KNN.ipynb",
      "provenance": [],
      "collapsed_sections": [],
      "authorship_tag": "ABX9TyNsl5kfLIz9ZnfGsLkKVDnu"
    },
    "kernelspec": {
      "name": "python3",
      "display_name": "Python 3"
    },
    "language_info": {
      "name": "python"
    }
  },
  "cells": [
    {
      "cell_type": "code",
      "metadata": {
        "id": "QQEgS4x3KO5_"
      },
      "source": [
        "import numpy as np\n",
        "import pandas as pd\n",
        "import seaborn as sns\n",
        "import matplotlib.pyplot as plt"
      ],
      "execution_count": 27,
      "outputs": []
    },
    {
      "cell_type": "code",
      "metadata": {
        "colab": {
          "base_uri": "https://localhost:8080/",
          "height": 295
        },
        "id": "Td6v2YJiL7s9",
        "outputId": "ecd6f58a-7168-4521-a1f9-1fc02bdc0fec"
      },
      "source": [
        "df = pd.read_excel('https://github.com/ShinyQ/Tugas-Pengantar-AI-3_KNN/blob/main/mobil.xls?raw=true')\n",
        "df.sample(8)"
      ],
      "execution_count": 28,
      "outputs": [
        {
          "output_type": "execute_result",
          "data": {
            "text/html": [
              "<div>\n",
              "<style scoped>\n",
              "    .dataframe tbody tr th:only-of-type {\n",
              "        vertical-align: middle;\n",
              "    }\n",
              "\n",
              "    .dataframe tbody tr th {\n",
              "        vertical-align: top;\n",
              "    }\n",
              "\n",
              "    .dataframe thead th {\n",
              "        text-align: right;\n",
              "    }\n",
              "</style>\n",
              "<table border=\"1\" class=\"dataframe\">\n",
              "  <thead>\n",
              "    <tr style=\"text-align: right;\">\n",
              "      <th></th>\n",
              "      <th>Nama Mobil</th>\n",
              "      <th>Ukuran</th>\n",
              "      <th>Kenyamanan</th>\n",
              "      <th>Irit</th>\n",
              "      <th>Kecepatan</th>\n",
              "      <th>Harga (Ratus Juta)</th>\n",
              "    </tr>\n",
              "  </thead>\n",
              "  <tbody>\n",
              "    <tr>\n",
              "      <th>5</th>\n",
              "      <td>Livina</td>\n",
              "      <td>7</td>\n",
              "      <td>7</td>\n",
              "      <td>6</td>\n",
              "      <td>7</td>\n",
              "      <td>2.10</td>\n",
              "    </tr>\n",
              "    <tr>\n",
              "      <th>4</th>\n",
              "      <td>Xpander</td>\n",
              "      <td>7</td>\n",
              "      <td>7</td>\n",
              "      <td>6</td>\n",
              "      <td>7</td>\n",
              "      <td>2.25</td>\n",
              "    </tr>\n",
              "    <tr>\n",
              "      <th>15</th>\n",
              "      <td>Suzuki Ertiga</td>\n",
              "      <td>7</td>\n",
              "      <td>7</td>\n",
              "      <td>7</td>\n",
              "      <td>7</td>\n",
              "      <td>2.30</td>\n",
              "    </tr>\n",
              "    <tr>\n",
              "      <th>1</th>\n",
              "      <td>Daihatsu Alya</td>\n",
              "      <td>4</td>\n",
              "      <td>3</td>\n",
              "      <td>9</td>\n",
              "      <td>6</td>\n",
              "      <td>1.10</td>\n",
              "    </tr>\n",
              "    <tr>\n",
              "      <th>2</th>\n",
              "      <td>Toyota Avanza</td>\n",
              "      <td>6</td>\n",
              "      <td>5</td>\n",
              "      <td>6</td>\n",
              "      <td>6</td>\n",
              "      <td>2.00</td>\n",
              "    </tr>\n",
              "    <tr>\n",
              "      <th>8</th>\n",
              "      <td>Alphard</td>\n",
              "      <td>9</td>\n",
              "      <td>10</td>\n",
              "      <td>4</td>\n",
              "      <td>8</td>\n",
              "      <td>10.00</td>\n",
              "    </tr>\n",
              "    <tr>\n",
              "      <th>9</th>\n",
              "      <td>Toyota Vios</td>\n",
              "      <td>5</td>\n",
              "      <td>7</td>\n",
              "      <td>9</td>\n",
              "      <td>8</td>\n",
              "      <td>2.50</td>\n",
              "    </tr>\n",
              "    <tr>\n",
              "      <th>12</th>\n",
              "      <td>Toyota Fortuner</td>\n",
              "      <td>9</td>\n",
              "      <td>8</td>\n",
              "      <td>5</td>\n",
              "      <td>8</td>\n",
              "      <td>5.00</td>\n",
              "    </tr>\n",
              "  </tbody>\n",
              "</table>\n",
              "</div>"
            ],
            "text/plain": [
              "         Nama Mobil  Ukuran  Kenyamanan  Irit  Kecepatan  Harga (Ratus Juta)\n",
              "5            Livina       7           7     6          7                2.10\n",
              "4           Xpander       7           7     6          7                2.25\n",
              "15    Suzuki Ertiga       7           7     7          7                2.30\n",
              "1     Daihatsu Alya       4           3     9          6                1.10\n",
              "2     Toyota Avanza       6           5     6          6                2.00\n",
              "8           Alphard       9          10     4          8               10.00\n",
              "9       Toyota Vios       5           7     9          8                2.50\n",
              "12  Toyota Fortuner       9           8     5          8                5.00"
            ]
          },
          "metadata": {
            "tags": []
          },
          "execution_count": 28
        }
      ]
    },
    {
      "cell_type": "code",
      "metadata": {
        "colab": {
          "base_uri": "https://localhost:8080/",
          "height": 388
        },
        "id": "H4R7VWDIMmdE",
        "outputId": "2f51a24e-13dc-4a40-c540-0a32bc15af89"
      },
      "source": [
        "df.describe(include='all')"
      ],
      "execution_count": 29,
      "outputs": [
        {
          "output_type": "execute_result",
          "data": {
            "text/html": [
              "<div>\n",
              "<style scoped>\n",
              "    .dataframe tbody tr th:only-of-type {\n",
              "        vertical-align: middle;\n",
              "    }\n",
              "\n",
              "    .dataframe tbody tr th {\n",
              "        vertical-align: top;\n",
              "    }\n",
              "\n",
              "    .dataframe thead th {\n",
              "        text-align: right;\n",
              "    }\n",
              "</style>\n",
              "<table border=\"1\" class=\"dataframe\">\n",
              "  <thead>\n",
              "    <tr style=\"text-align: right;\">\n",
              "      <th></th>\n",
              "      <th>Nama Mobil</th>\n",
              "      <th>Ukuran</th>\n",
              "      <th>Kenyamanan</th>\n",
              "      <th>Irit</th>\n",
              "      <th>Kecepatan</th>\n",
              "      <th>Harga (Ratus Juta)</th>\n",
              "    </tr>\n",
              "  </thead>\n",
              "  <tbody>\n",
              "    <tr>\n",
              "      <th>count</th>\n",
              "      <td>17</td>\n",
              "      <td>17.000000</td>\n",
              "      <td>17.000000</td>\n",
              "      <td>17.000000</td>\n",
              "      <td>17.000000</td>\n",
              "      <td>17.000000</td>\n",
              "    </tr>\n",
              "    <tr>\n",
              "      <th>unique</th>\n",
              "      <td>17</td>\n",
              "      <td>NaN</td>\n",
              "      <td>NaN</td>\n",
              "      <td>NaN</td>\n",
              "      <td>NaN</td>\n",
              "      <td>NaN</td>\n",
              "    </tr>\n",
              "    <tr>\n",
              "      <th>top</th>\n",
              "      <td>Toyota Avanza</td>\n",
              "      <td>NaN</td>\n",
              "      <td>NaN</td>\n",
              "      <td>NaN</td>\n",
              "      <td>NaN</td>\n",
              "      <td>NaN</td>\n",
              "    </tr>\n",
              "    <tr>\n",
              "      <th>freq</th>\n",
              "      <td>1</td>\n",
              "      <td>NaN</td>\n",
              "      <td>NaN</td>\n",
              "      <td>NaN</td>\n",
              "      <td>NaN</td>\n",
              "      <td>NaN</td>\n",
              "    </tr>\n",
              "    <tr>\n",
              "      <th>mean</th>\n",
              "      <td>NaN</td>\n",
              "      <td>6.529412</td>\n",
              "      <td>6.352941</td>\n",
              "      <td>6.941176</td>\n",
              "      <td>6.823529</td>\n",
              "      <td>3.247059</td>\n",
              "    </tr>\n",
              "    <tr>\n",
              "      <th>std</th>\n",
              "      <td>NaN</td>\n",
              "      <td>2.034627</td>\n",
              "      <td>2.234423</td>\n",
              "      <td>1.784327</td>\n",
              "      <td>1.131111</td>\n",
              "      <td>2.406597</td>\n",
              "    </tr>\n",
              "    <tr>\n",
              "      <th>min</th>\n",
              "      <td>NaN</td>\n",
              "      <td>3.000000</td>\n",
              "      <td>3.000000</td>\n",
              "      <td>4.000000</td>\n",
              "      <td>5.000000</td>\n",
              "      <td>0.800000</td>\n",
              "    </tr>\n",
              "    <tr>\n",
              "      <th>25%</th>\n",
              "      <td>NaN</td>\n",
              "      <td>5.000000</td>\n",
              "      <td>4.000000</td>\n",
              "      <td>6.000000</td>\n",
              "      <td>6.000000</td>\n",
              "      <td>1.750000</td>\n",
              "    </tr>\n",
              "    <tr>\n",
              "      <th>50%</th>\n",
              "      <td>NaN</td>\n",
              "      <td>7.000000</td>\n",
              "      <td>7.000000</td>\n",
              "      <td>7.000000</td>\n",
              "      <td>7.000000</td>\n",
              "      <td>2.300000</td>\n",
              "    </tr>\n",
              "    <tr>\n",
              "      <th>75%</th>\n",
              "      <td>NaN</td>\n",
              "      <td>8.000000</td>\n",
              "      <td>8.000000</td>\n",
              "      <td>9.000000</td>\n",
              "      <td>8.000000</td>\n",
              "      <td>5.000000</td>\n",
              "    </tr>\n",
              "    <tr>\n",
              "      <th>max</th>\n",
              "      <td>NaN</td>\n",
              "      <td>10.000000</td>\n",
              "      <td>10.000000</td>\n",
              "      <td>10.000000</td>\n",
              "      <td>9.000000</td>\n",
              "      <td>10.000000</td>\n",
              "    </tr>\n",
              "  </tbody>\n",
              "</table>\n",
              "</div>"
            ],
            "text/plain": [
              "           Nama Mobil     Ukuran  ...  Kecepatan  Harga (Ratus Juta)\n",
              "count              17  17.000000  ...  17.000000           17.000000\n",
              "unique             17        NaN  ...        NaN                 NaN\n",
              "top     Toyota Avanza        NaN  ...        NaN                 NaN\n",
              "freq                1        NaN  ...        NaN                 NaN\n",
              "mean              NaN   6.529412  ...   6.823529            3.247059\n",
              "std               NaN   2.034627  ...   1.131111            2.406597\n",
              "min               NaN   3.000000  ...   5.000000            0.800000\n",
              "25%               NaN   5.000000  ...   6.000000            1.750000\n",
              "50%               NaN   7.000000  ...   7.000000            2.300000\n",
              "75%               NaN   8.000000  ...   8.000000            5.000000\n",
              "max               NaN  10.000000  ...   9.000000           10.000000\n",
              "\n",
              "[11 rows x 6 columns]"
            ]
          },
          "metadata": {
            "tags": []
          },
          "execution_count": 29
        }
      ]
    },
    {
      "cell_type": "markdown",
      "metadata": {
        "id": "XCqYvH_2OEBb"
      },
      "source": [
        "### **Data Preprocessing**"
      ]
    },
    {
      "cell_type": "markdown",
      "metadata": {
        "id": "ZyneK0GowIiy"
      },
      "source": [
        "##### **Memeriksa Data Yang Hilang**"
      ]
    },
    {
      "cell_type": "code",
      "metadata": {
        "colab": {
          "base_uri": "https://localhost:8080/"
        },
        "id": "rCyWX21iMsVG",
        "outputId": "b84f96f4-19bc-4952-ca0e-f27257693781"
      },
      "source": [
        "df.isna().sum()"
      ],
      "execution_count": 30,
      "outputs": [
        {
          "output_type": "execute_result",
          "data": {
            "text/plain": [
              "Nama Mobil            0\n",
              "Ukuran                0\n",
              "Kenyamanan            0\n",
              "Irit                  0\n",
              "Kecepatan             0\n",
              "Harga (Ratus Juta)    0\n",
              "dtype: int64"
            ]
          },
          "metadata": {
            "tags": []
          },
          "execution_count": 30
        }
      ]
    },
    {
      "cell_type": "markdown",
      "metadata": {
        "id": "G0DLjqsHseVh"
      },
      "source": [
        "##### **Min Max Feature Scaling**"
      ]
    },
    {
      "cell_type": "code",
      "metadata": {
        "id": "Qjw69Hebny4x"
      },
      "source": [
        "for col in range(len(data)):\n",
        "    data['Harga'][col] = (data['Harga'][col] - (data['Harga']).min()) / ((data['Harga']).max() - (data['Harga']).min())"
      ],
      "execution_count": 31,
      "outputs": []
    },
    {
      "cell_type": "markdown",
      "metadata": {
        "id": "XHOBe35RxP-R"
      },
      "source": [
        "##### **Rename Dan Drop Kolom Yang Tidak Dibutuhkan**"
      ]
    },
    {
      "cell_type": "code",
      "metadata": {
        "id": "sTR1O290ectM"
      },
      "source": [
        "data = df.rename({'Harga (Ratus Juta)': 'Harga'}, axis=1)\n",
        "data = data.drop('Nama Mobil', axis=1)"
      ],
      "execution_count": 32,
      "outputs": []
    },
    {
      "cell_type": "markdown",
      "metadata": {
        "id": "97Er3DT3MzR6"
      },
      "source": [
        "### **Exploratory Data Analysis**"
      ]
    },
    {
      "cell_type": "code",
      "metadata": {
        "colab": {
          "base_uri": "https://localhost:8080/",
          "height": 282
        },
        "id": "VaFyA3us7Yph",
        "outputId": "a007178a-6539-442c-ca17-03f82137577b"
      },
      "source": [
        "data['Harga'].hist(alpha=0.8)\n",
        "plt.axvline(data['Harga'].mean(), color='r', linestyle='dashed', linewidth=2, label='Mean')\n",
        "plt.axvline(data['Harga'].median(), color='orange', linestyle='dashed', linewidth=2, label='Median')"
      ],
      "execution_count": 33,
      "outputs": [
        {
          "output_type": "execute_result",
          "data": {
            "text/plain": [
              "<matplotlib.lines.Line2D at 0x7fcfce57a990>"
            ]
          },
          "metadata": {
            "tags": []
          },
          "execution_count": 33
        },
        {
          "output_type": "display_data",
          "data": {
            "image/png": "[encoded data removed]",
            "text/plain": [
              "<Figure size 432x288 with 1 Axes>"
            ]
          },
          "metadata": {
            "tags": [],
            "needs_background": "light"
          }
        }
      ]
    },
    {
      "cell_type": "markdown",
      "metadata": {
        "id": "xzRX3PB-M9s9"
      },
      "source": [
        "### **Modelling**"
      ]
    },
    {
      "cell_type": "code",
      "metadata": {
        "id": "XvShOlEDzXAL"
      },
      "source": [
        "def euclidean_distance(x, y):\n",
        "    dist = 0\n",
        "    for i in range(len(y)):\n",
        "        dist += (x[i] - y[i])**2\n",
        "\n",
        "    return dist ** 1/2\n",
        "\n",
        "def manhattan_distance(x, y):\n",
        "    dist = 0\n",
        "    for i in range(len(x)):\n",
        "        dist += abs(x[i] - y[i])\n",
        "\n",
        "    return dist\n",
        " \n",
        "def minkowski_distance(x, y, p=2):\n",
        "    dist = 0\n",
        "    for i in range(len(x)):\n",
        "        dist += abs(x[i] - y[i]) ** p\n",
        "\n",
        "    return dist ** (1/p)\n",
        "\n",
        "def supremum_distance(x, y):\n",
        "    dist = []\n",
        "    for i in range(len(x)):\n",
        "        dist.append(abs(x[i] - y[i]))\n",
        "\n",
        "    return max(dist)"
      ],
      "execution_count": 34,
      "outputs": []
    },
    {
      "cell_type": "code",
      "metadata": {
        "id": "pmHYj1QzpRNf"
      },
      "source": [
        "def get_distance(x, y, k):\n",
        "    euclidean, manhattan, minkowski, supremum = [], [], [], []\n",
        "\n",
        "    for i in range(len(x)):\n",
        "        minkowski.append([minkowski_distance(x.iloc[i].tolist(), y), df['Nama Mobil'][i]])\n",
        "        manhattan.append([manhattan_distance(x.iloc[i].tolist(), y), df['Nama Mobil'][i]])\n",
        "        euclidean.append([euclidean_distance(x.iloc[i].tolist(), y), df['Nama Mobil'][i]])\n",
        "        supremum.append([supremum_distance(x.iloc[i].tolist(), y), df['Nama Mobil'][i]])\n",
        "\n",
        "    euclidean = sorted(euclidean)[:k]\n",
        "    manhattan = sorted(manhattan)[:k]\n",
        "    minkowski = sorted(minkowski)[:k]\n",
        "    supremum = sorted(supremum)[:k]\n",
        "\n",
        "    return euclidean, manhattan, minkowski, supremum"
      ],
      "execution_count": 35,
      "outputs": []
    },
    {
      "cell_type": "code",
      "metadata": {
        "id": "iUB0ar5jqytF"
      },
      "source": [
        "def knn(x, y, k=3):\n",
        "    euclidean, manhattan, minkowski, supremum = get_distance(x, y, k)\n",
        "    distances = [['Euclidean', euclidean], ['Manhattan', manhattan], ['Minkowski', minkowski], ['Supremum', supremum]]\n",
        "\n",
        "    return distances"
      ],
      "execution_count": 36,
      "outputs": []
    },
    {
      "cell_type": "markdown",
      "metadata": {
        "id": "IelG4p7vqZiq"
      },
      "source": [
        "### **Result**"
      ]
    },
    {
      "cell_type": "code",
      "metadata": {
        "colab": {
          "base_uri": "https://localhost:8080/"
        },
        "id": "ah3Lert2yaSH",
        "outputId": "84e64952-fcbf-4fb1-a4eb-47e3c09becf3"
      },
      "source": [
        "ukuran = int(input(\"Masukkan Ukuran: \"))\n",
        "kenyamanan = int(input(\"Masukkan Kenyamanan: \"))\n",
        "irit = int(input(\"Masukkan Irit: \"))\n",
        "kecepatan = float(input(\"Masukkan Kecepatan: \"))\n",
        "harga = float(input(\"Harga: \"))\n",
        "\n",
        "\n",
        "distances = knn(data, [ukuran, kenyamanan, irit, kecepatan, harga])\n",
        "\n",
        "for method in distances:\n",
        "      print(\"\\n--------------------------------------------------\")\n",
        "      print(f'Metode: {method[0]}')\n",
        "      print(\"--------------------------------------------------\")\n",
        "      \n",
        "      car = []\n",
        "\n",
        "      for i, distance in enumerate(method[1]):\n",
        "          print(f'{i+1}. {distance[1]}, Distance: {round(distance[0], 2)}')\n",
        "          car.append(distance[1])\n",
        "      \n",
        "      car = pd.DataFrame(car)\n",
        "      car.to_excel(f'{method[0]}.xls', index=False, header=False)  "
      ],
      "execution_count": 37,
      "outputs": [
        {
          "output_type": "stream",
          "text": [
            "Masukkan Ukuran: 1\n",
            "Masukkan Kenyamanan: 2\n",
            "Masukkan Irit: 3\n",
            "Masukkan Kecepatan: 4\n",
            "Harga: 5\n",
            "\n",
            "--------------------------------------------------\n",
            "Metode: Euclidean\n",
            "--------------------------------------------------\n",
            "1. Daihatsu Xenia, Distance: 26.28\n",
            "2. Toyota Avanza, Distance: 28.0\n",
            "3. Daihatsu Alya, Distance: 32.6\n",
            "\n",
            "--------------------------------------------------\n",
            "Metode: Manhattan\n",
            "--------------------------------------------------\n",
            "1. Daihatsu Xenia, Distance: 15.25\n",
            "2. Karimun, Distance: 15.8\n",
            "3. Daihatsu Alya, Distance: 15.9\n",
            "\n",
            "--------------------------------------------------\n",
            "Metode: Minkowski\n",
            "--------------------------------------------------\n",
            "1. Daihatsu Xenia, Distance: 7.25\n",
            "2. Toyota Avanza, Distance: 7.48\n",
            "3. Daihatsu Alya, Distance: 8.08\n",
            "\n",
            "--------------------------------------------------\n",
            "Metode: Supremum\n",
            "--------------------------------------------------\n",
            "1. Daihatsu Xenia, Distance: 5.0\n",
            "2. Toyota Avanza, Distance: 5.0\n",
            "3. Daihatsu Alya, Distance: 6.0\n"
          ],
          "name": "stdout"
        }
      ]
    }
  ]
}