{
  "nbformat": 4,
  "nbformat_minor": 0,
  "metadata": {
    "colab": {
      "name": "Kelompok 1 - Tugas Pengantar AI - KNN.ipynb",
      "provenance": [],
      "collapsed_sections": [],
      "authorship_tag": "ABX9TyPCLaXyaEyl8u8KAO8OWXJe"
    },
    "kernelspec": {
      "name": "python3",
      "display_name": "Python 3"
    },
    "language_info": {
      "name": "python"
    }
  },
  "cells": [
    {
      "cell_type": "code",
      "metadata": {
        "id": "QQEgS4x3KO5_"
      },
      "source": [
        "import numpy as np\n",
        "import pandas as pd\n",
        "import seaborn as sns\n",
        "import matplotlib.pyplot as plt\n",
        "import math"
      ],
      "execution_count": 426,
      "outputs": []
    },
    {
      "cell_type": "code",
      "metadata": {
        "colab": {
          "base_uri": "https://localhost:8080/",
          "height": 294
        },
        "id": "Td6v2YJiL7s9",
        "outputId": "a5668cd5-7343-4906-cb3b-536fe11898de"
      },
      "source": [
        "df = pd.read_excel('https://github.com/ShinyQ/Tugas-Pengantar-AI-3_KNN/blob/main/mobil.xls?raw=true')\n",
        "df.sample(8)"
      ],
      "execution_count": 427,
      "outputs": [
        {
          "output_type": "execute_result",
          "data": {
            "text/html": [
              "<div>\n",
              "<style scoped>\n",
              "    .dataframe tbody tr th:only-of-type {\n",
              "        vertical-align: middle;\n",
              "    }\n",
              "\n",
              "    .dataframe tbody tr th {\n",
              "        vertical-align: top;\n",
              "    }\n",
              "\n",
              "    .dataframe thead th {\n",
              "        text-align: right;\n",
              "    }\n",
              "</style>\n",
              "<table border=\"1\" class=\"dataframe\">\n",
              "  <thead>\n",
              "    <tr style=\"text-align: right;\">\n",
              "      <th></th>\n",
              "      <th>Nama Mobil</th>\n",
              "      <th>Ukuran</th>\n",
              "      <th>Kenyamanan</th>\n",
              "      <th>Irit</th>\n",
              "      <th>Kecepatan</th>\n",
              "      <th>Harga (Ratus Juta)</th>\n",
              "    </tr>\n",
              "  </thead>\n",
              "  <tbody>\n",
              "    <tr>\n",
              "      <th>10</th>\n",
              "      <td>Honda City</td>\n",
              "      <td>5</td>\n",
              "      <td>8</td>\n",
              "      <td>7</td>\n",
              "      <td>8</td>\n",
              "      <td>2.70</td>\n",
              "    </tr>\n",
              "    <tr>\n",
              "      <th>11</th>\n",
              "      <td>Toyota Hiace</td>\n",
              "      <td>10</td>\n",
              "      <td>5</td>\n",
              "      <td>8</td>\n",
              "      <td>6</td>\n",
              "      <td>5.00</td>\n",
              "    </tr>\n",
              "    <tr>\n",
              "      <th>3</th>\n",
              "      <td>Daihatsu Xenia</td>\n",
              "      <td>6</td>\n",
              "      <td>4</td>\n",
              "      <td>6</td>\n",
              "      <td>6</td>\n",
              "      <td>1.75</td>\n",
              "    </tr>\n",
              "    <tr>\n",
              "      <th>9</th>\n",
              "      <td>Toyota Vios</td>\n",
              "      <td>5</td>\n",
              "      <td>7</td>\n",
              "      <td>9</td>\n",
              "      <td>8</td>\n",
              "      <td>2.50</td>\n",
              "    </tr>\n",
              "    <tr>\n",
              "      <th>15</th>\n",
              "      <td>Suzuki Ertiga</td>\n",
              "      <td>7</td>\n",
              "      <td>7</td>\n",
              "      <td>7</td>\n",
              "      <td>7</td>\n",
              "      <td>2.30</td>\n",
              "    </tr>\n",
              "    <tr>\n",
              "      <th>14</th>\n",
              "      <td>Toyota Corolla Altis</td>\n",
              "      <td>5</td>\n",
              "      <td>9</td>\n",
              "      <td>7</td>\n",
              "      <td>9</td>\n",
              "      <td>6.00</td>\n",
              "    </tr>\n",
              "    <tr>\n",
              "      <th>12</th>\n",
              "      <td>Toyota Fortuner</td>\n",
              "      <td>9</td>\n",
              "      <td>8</td>\n",
              "      <td>5</td>\n",
              "      <td>8</td>\n",
              "      <td>5.00</td>\n",
              "    </tr>\n",
              "    <tr>\n",
              "      <th>1</th>\n",
              "      <td>Daihatsu Alya</td>\n",
              "      <td>4</td>\n",
              "      <td>3</td>\n",
              "      <td>9</td>\n",
              "      <td>6</td>\n",
              "      <td>1.10</td>\n",
              "    </tr>\n",
              "  </tbody>\n",
              "</table>\n",
              "</div>"
            ],
            "text/plain": [
              "              Nama Mobil  Ukuran  ...  Kecepatan  Harga (Ratus Juta)\n",
              "10            Honda City       5  ...          8                2.70\n",
              "11          Toyota Hiace      10  ...          6                5.00\n",
              "3         Daihatsu Xenia       6  ...          6                1.75\n",
              "9            Toyota Vios       5  ...          8                2.50\n",
              "15         Suzuki Ertiga       7  ...          7                2.30\n",
              "14  Toyota Corolla Altis       5  ...          9                6.00\n",
              "12       Toyota Fortuner       9  ...          8                5.00\n",
              "1          Daihatsu Alya       4  ...          6                1.10\n",
              "\n",
              "[8 rows x 6 columns]"
            ]
          },
          "metadata": {
            "tags": []
          },
          "execution_count": 427
        }
      ]
    },
    {
      "cell_type": "code",
      "metadata": {
        "id": "sTR1O290ectM"
      },
      "source": [
        "data = df.rename({'Harga (Ratus Juta)': 'Harga'}, axis=1)\n",
        "data = data.drop('Nama Mobil', axis=1)"
      ],
      "execution_count": 428,
      "outputs": []
    },
    {
      "cell_type": "code",
      "metadata": {
        "colab": {
          "base_uri": "https://localhost:8080/"
        },
        "id": "rCyWX21iMsVG",
        "outputId": "0363e49b-0979-4f0a-e04a-bab172bc4cb8"
      },
      "source": [
        "data.isna().sum()"
      ],
      "execution_count": 429,
      "outputs": [
        {
          "output_type": "execute_result",
          "data": {
            "text/plain": [
              "Ukuran        0\n",
              "Kenyamanan    0\n",
              "Irit          0\n",
              "Kecepatan     0\n",
              "Harga         0\n",
              "dtype: int64"
            ]
          },
          "metadata": {
            "tags": []
          },
          "execution_count": 429
        }
      ]
    },
    {
      "cell_type": "code",
      "metadata": {
        "colab": {
          "base_uri": "https://localhost:8080/",
          "height": 294
        },
        "id": "H4R7VWDIMmdE",
        "outputId": "d94ccb14-5f38-4c5a-8733-c06ff9c8d33b"
      },
      "source": [
        "data.describe(include='all')"
      ],
      "execution_count": 430,
      "outputs": [
        {
          "output_type": "execute_result",
          "data": {
            "text/html": [
              "<div>\n",
              "<style scoped>\n",
              "    .dataframe tbody tr th:only-of-type {\n",
              "        vertical-align: middle;\n",
              "    }\n",
              "\n",
              "    .dataframe tbody tr th {\n",
              "        vertical-align: top;\n",
              "    }\n",
              "\n",
              "    .dataframe thead th {\n",
              "        text-align: right;\n",
              "    }\n",
              "</style>\n",
              "<table border=\"1\" class=\"dataframe\">\n",
              "  <thead>\n",
              "    <tr style=\"text-align: right;\">\n",
              "      <th></th>\n",
              "      <th>Ukuran</th>\n",
              "      <th>Kenyamanan</th>\n",
              "      <th>Irit</th>\n",
              "      <th>Kecepatan</th>\n",
              "      <th>Harga</th>\n",
              "    </tr>\n",
              "  </thead>\n",
              "  <tbody>\n",
              "    <tr>\n",
              "      <th>count</th>\n",
              "      <td>17.000000</td>\n",
              "      <td>17.000000</td>\n",
              "      <td>17.000000</td>\n",
              "      <td>17.000000</td>\n",
              "      <td>17.000000</td>\n",
              "    </tr>\n",
              "    <tr>\n",
              "      <th>mean</th>\n",
              "      <td>6.529412</td>\n",
              "      <td>6.352941</td>\n",
              "      <td>6.941176</td>\n",
              "      <td>6.823529</td>\n",
              "      <td>3.247059</td>\n",
              "    </tr>\n",
              "    <tr>\n",
              "      <th>std</th>\n",
              "      <td>2.034627</td>\n",
              "      <td>2.234423</td>\n",
              "      <td>1.784327</td>\n",
              "      <td>1.131111</td>\n",
              "      <td>2.406597</td>\n",
              "    </tr>\n",
              "    <tr>\n",
              "      <th>min</th>\n",
              "      <td>3.000000</td>\n",
              "      <td>3.000000</td>\n",
              "      <td>4.000000</td>\n",
              "      <td>5.000000</td>\n",
              "      <td>0.800000</td>\n",
              "    </tr>\n",
              "    <tr>\n",
              "      <th>25%</th>\n",
              "      <td>5.000000</td>\n",
              "      <td>4.000000</td>\n",
              "      <td>6.000000</td>\n",
              "      <td>6.000000</td>\n",
              "      <td>1.750000</td>\n",
              "    </tr>\n",
              "    <tr>\n",
              "      <th>50%</th>\n",
              "      <td>7.000000</td>\n",
              "      <td>7.000000</td>\n",
              "      <td>7.000000</td>\n",
              "      <td>7.000000</td>\n",
              "      <td>2.300000</td>\n",
              "    </tr>\n",
              "    <tr>\n",
              "      <th>75%</th>\n",
              "      <td>8.000000</td>\n",
              "      <td>8.000000</td>\n",
              "      <td>9.000000</td>\n",
              "      <td>8.000000</td>\n",
              "      <td>5.000000</td>\n",
              "    </tr>\n",
              "    <tr>\n",
              "      <th>max</th>\n",
              "      <td>10.000000</td>\n",
              "      <td>10.000000</td>\n",
              "      <td>10.000000</td>\n",
              "      <td>9.000000</td>\n",
              "      <td>10.000000</td>\n",
              "    </tr>\n",
              "  </tbody>\n",
              "</table>\n",
              "</div>"
            ],
            "text/plain": [
              "          Ukuran  Kenyamanan       Irit  Kecepatan      Harga\n",
              "count  17.000000   17.000000  17.000000  17.000000  17.000000\n",
              "mean    6.529412    6.352941   6.941176   6.823529   3.247059\n",
              "std     2.034627    2.234423   1.784327   1.131111   2.406597\n",
              "min     3.000000    3.000000   4.000000   5.000000   0.800000\n",
              "25%     5.000000    4.000000   6.000000   6.000000   1.750000\n",
              "50%     7.000000    7.000000   7.000000   7.000000   2.300000\n",
              "75%     8.000000    8.000000   9.000000   8.000000   5.000000\n",
              "max    10.000000   10.000000  10.000000   9.000000  10.000000"
            ]
          },
          "metadata": {
            "tags": []
          },
          "execution_count": 430
        }
      ]
    },
    {
      "cell_type": "markdown",
      "metadata": {
        "id": "XCqYvH_2OEBb"
      },
      "source": [
        "### **Data Preprocessing**"
      ]
    },
    {
      "cell_type": "markdown",
      "metadata": {
        "id": "G0DLjqsHseVh"
      },
      "source": [
        "##### **Min Max Feature Scaling**"
      ]
    },
    {
      "cell_type": "code",
      "metadata": {
        "colab": {
          "base_uri": "https://localhost:8080/"
        },
        "id": "Qjw69Hebny4x",
        "outputId": "3b39b2bf-9819-4152-f40c-2664db8f4185"
      },
      "source": [
        "for col in range(len(data)):\n",
        "    data['Harga'][col] = (data['Harga'][col] - (data['Harga']).min()) / ((data['Harga']).max() - (data['Harga']).min())"
      ],
      "execution_count": 431,
      "outputs": [
        {
          "output_type": "stream",
          "text": [
            "/usr/local/lib/python3.7/dist-packages/ipykernel_launcher.py:2: SettingWithCopyWarning: \n",
            "A value is trying to be set on a copy of a slice from a DataFrame\n",
            "\n",
            "See the caveats in the documentation: https://pandas.pydata.org/pandas-docs/stable/user_guide/indexing.html#returning-a-view-versus-a-copy\n",
            "  \n"
          ],
          "name": "stderr"
        }
      ]
    },
    {
      "cell_type": "markdown",
      "metadata": {
        "id": "97Er3DT3MzR6"
      },
      "source": [
        "### **Exploratory Data Analysis**"
      ]
    },
    {
      "cell_type": "code",
      "metadata": {
        "colab": {
          "base_uri": "https://localhost:8080/",
          "height": 281
        },
        "id": "VaFyA3us7Yph",
        "outputId": "5849455c-d33a-4d55-88a9-c4dc388165b2"
      },
      "source": [
        "data['Harga'].hist(alpha=0.8)\n",
        "plt.axvline(data['Harga'].mean(), color='r', linestyle='dashed', linewidth=2, label='Mean')\n",
        "plt.axvline(data['Harga'].median(), color='orange', linestyle='dashed', linewidth=2, label='Median')"
      ],
      "execution_count": 432,
      "outputs": [
        {
          "output_type": "execute_result",
          "data": {
            "text/plain": [
              "<matplotlib.lines.Line2D at 0x7f5146413610>"
            ]
          },
          "metadata": {
            "tags": []
          },
          "execution_count": 432
        },
        {
          "output_type": "display_data",
          "data": {
            "image/png": "[encoded data removed]",
            "text/plain": [
              "<Figure size 432x288 with 1 Axes>"
            ]
          },
          "metadata": {
            "tags": [],
            "needs_background": "light"
          }
        }
      ]
    },
    {
      "cell_type": "markdown",
      "metadata": {
        "id": "xzRX3PB-M9s9"
      },
      "source": [
        "### **Modelling**"
      ]
    },
    {
      "cell_type": "code",
      "metadata": {
        "id": "XvShOlEDzXAL"
      },
      "source": [
        "def euclidean_distance(x, y):\n",
        "    dist = 0\n",
        "    for i in range(len(y)):\n",
        "        dist += (x[i] - y[i])**2\n",
        "\n",
        "    return math.sqrt(dist)\n",
        "\n",
        "def manhattan_distance(x, y):\n",
        "    dist = 0\n",
        "\n",
        "    for i in range(len(x)):\n",
        "        dist += abs(float(x[i]) - float(y[i]))\n",
        "\n",
        "    return dist\n",
        "\n",
        " \n",
        "def minkowski_distance(x,y, p=2):\n",
        "    dist = 0\n",
        "\n",
        "    for i in range(len(x)):\n",
        "        dist += (float(x[i]) - float(y[i]))**p\n",
        "\n",
        "    return dist\n",
        "\n",
        "\n",
        "def supremum_distance(x, y):\n",
        "    dist = []\n",
        "\n",
        "    for i in range(len(x)):\n",
        "        dist.append(abs(float(x[i]) - float(y[i])))\n",
        "\n",
        "    return max(dist)"
      ],
      "execution_count": 433,
      "outputs": []
    },
    {
      "cell_type": "code",
      "metadata": {
        "id": "pmHYj1QzpRNf"
      },
      "source": [
        "def get_disance(x, y, k):\n",
        "    euclidean, manhattan, minkowski, supremum = [], [], [], []\n",
        "\n",
        "    for i in range(len(x)):\n",
        "        minkowski.append([minkowski_distance(x.iloc[i].tolist(), y), df['Nama Mobil'][i]])\n",
        "        manhattan.append([manhattan_distance(x.iloc[i].tolist(), y), df['Nama Mobil'][i]])\n",
        "        euclidean.append([euclidean_distance(x.iloc[i].tolist(), y), df['Nama Mobil'][i]])\n",
        "        supremum.append([supremum_distance(x.iloc[i].tolist(), y), df['Nama Mobil'][i]])\n",
        "\n",
        "    euclidean = sorted(euclidean[:k])\n",
        "    manhattan = sorted(manhattan[:k])\n",
        "    minkowski = sorted(minkowski[:k])\n",
        "    supremum = sorted(supremum[:k])\n",
        "\n",
        "    return euclidean, manhattan, minkowski, supremum"
      ],
      "execution_count": 434,
      "outputs": []
    },
    {
      "cell_type": "code",
      "metadata": {
        "id": "iUB0ar5jqytF"
      },
      "source": [
        "def knn(x, y, k=3):\n",
        "    euclidean, manhattan, minkowski, supremum = get_disance(x, y, k)\n",
        "    distances = [['Euclidean', euclidean], ['Manhattan', manhattan], ['Minkowski', minkowski], ['Supremum', supremum]]\n",
        "\n",
        "    return distances"
      ],
      "execution_count": 435,
      "outputs": []
    },
    {
      "cell_type": "markdown",
      "metadata": {
        "id": "IelG4p7vqZiq"
      },
      "source": [
        "### **Result**"
      ]
    },
    {
      "cell_type": "code",
      "metadata": {
        "colab": {
          "base_uri": "https://localhost:8080/"
        },
        "id": "ah3Lert2yaSH",
        "outputId": "78d1b8cc-d16e-4502-ab45-9d2b433a01ab"
      },
      "source": [
        "ukuran = float(input(\"Masukkan Ukuran: \"))\n",
        "kenyamanan = float(input(\"Masukkan Kenyamanan: \"))\n",
        "irit = float(input(\"Masukkan Irit: \"))\n",
        "kecepatan = float(input(\"Masukkan Kecepatan: \"))\n",
        "harga = float(input(\"Harga: \"))\n",
        "\n",
        "\n",
        "distances = knn(data, [ukuran, kenyamanan, irit, kecepatan, harga])\n",
        "\n",
        "for method in distances:\n",
        "      print(f'\\nMetode: {method[0]}')\n",
        "      car = []\n",
        "\n",
        "      for i, distance in enumerate(method[1]):\n",
        "          print(f'{i+1}. {distance[1]}, Distance: {distance[0]}')\n",
        "          car.append(distance[1])\n",
        "      \n",
        "      car = pd.DataFrame(car)\n",
        "      car.to_excel(f'{method[0]}.xls', index=False, header=False)  "
      ],
      "execution_count": 436,
      "outputs": [
        {
          "output_type": "stream",
          "text": [
            "Masukkan Ukuran: 1\n",
            "Masukkan Kenyamanan: 2\n",
            "Masukkan Irit: 3\n",
            "Masukkan Kecepatan: 4\n",
            "Harga: 5\n",
            "\n",
            "Metode: Euclidean\n",
            "1. Toyota Avanza, Distance: 8.369990147181285\n",
            "2. Daihatsu Alya, Distance: 8.598317693502919\n",
            "3. Toyota Agya, Distance: 8.819471712378482\n",
            "\n",
            "Metode: Manhattan\n",
            "1. Daihatsu Alya, Distance: 16.89193899782135\n",
            "2. Toyota Avanza, Distance: 17.80174291938998\n",
            "3. Toyota Agya, Distance: 17.97826086956522\n",
            "\n",
            "Metode: Minkowski\n",
            "1. Toyota Avanza, Distance: 70.05673506391179\n",
            "2. Daihatsu Alya, Distance: 73.93106715840536\n",
            "3. Toyota Agya, Distance: 77.78308128544424\n",
            "\n",
            "Metode: Supremum\n",
            "1. Toyota Avanza, Distance: 5.0\n",
            "2. Daihatsu Alya, Distance: 6.0\n",
            "3. Toyota Agya, Distance: 6.0\n"
          ],
          "name": "stdout"
        }
      ]
    }
  ]
}